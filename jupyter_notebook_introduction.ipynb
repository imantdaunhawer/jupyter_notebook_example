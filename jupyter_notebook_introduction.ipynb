{
 "cells": [
  {
   "cell_type": "markdown",
   "metadata": {},
   "source": [
    "# Einführung\n",
    "\n",
    "Das was Sie hier sehen ist ein [Jupyter Notebook](https://jupyter.org/) (gespeichert als PDF- oder HTML-Datei). Ähnlich CodeExpert, bietet das Jupyter Notebook ein interaktives Programmierumfeld für Python, aber auch für andere Programmiersprachen. Während CodeExpert Ihnen den Einstieg in das Programmieren sowie die Abgabe der Projekte vereinfachen sollte, ist das Jupyter Notebook in der Praxis weit verbreitet und wird vor allem dafür benutzt, die eigene Arbeit (z.B., eine Datenanalyse) mit anderen zu teilen.\n",
    "\n",
    "Das Jupyter Notebook kombiniert Code, Ausgabe, und Kommentare in einem Dokument (mit der Endung .ipynb), das komplett editierbar ist. Das heisst, man kann den Code und die Kommentare ändern, um damit die Ausgabe (print-Ausgabe, plots, etc.) entsprechend anzupassen. Das Jupyter Notebook kann zudem als PDF- oder HTML-Datei exportiert werden, aber in dieser Form kann man keine Änderungen am Jupyter Notebook vornehmen.\n",
    "\n",
    "Im Folgenden stellen wir die Funktionsweise des Jupyter Notebooks kurz vor. Im Kurs *Digitale Medizin II* werden Sie voraussichtlich überwiegend mit dem Jupyter Notebook arbeiten.\n",
    "\n",
    "**In Kürze:**\n",
    "- ein interaktives Programmierumfeld für Python (und andere Programmiersprachen)\n",
    "- sehr verbreitet für reproduzierbare Datenanalyse\n",
    "- Kombiniert Code, Ausgabe, und Kommentare in einem Dokument, das von anderen bearbeitet werden kann"
   ]
  },
  {
   "cell_type": "markdown",
   "metadata": {},
   "source": [
    "### Arten von Zellen\n",
    "\n",
    "Das Jupyter Notebook ist aufgeteilt in mehrere *Zellen*, von denen Code-Zellen und Markdown-Zellen die Wichtigsten Typen sind. \n",
    "\n",
    "**Markdown-Zellen:** Für Kommentare (wie der Text, den Sie bisher lesen). In Markdown-Zellen kann der Text formatiert werden (z.B., Schriftart, Schriftgröße) und es können sogar Links und Bilder eingebettet werden. Hierfür kann entsprechend der [Markdown-Syntax](https://github.com/adam-p/markdown-here/wiki/Markdown-Cheatsheet) genutzt werden.\n",
    "\n",
    "**Code-Zellen:** Enhalten den Python Code, der ausgeführt werden soll. Code-Zellen müssen ensprechend *ausgeführt* werden, ähnlich wie in CodeExpert, nur beschränkt auf die jeweilige Zelle."
   ]
  },
  {
   "cell_type": "markdown",
   "metadata": {},
   "source": [
    "# Ein kurzes Beispiel"
   ]
  },
  {
   "cell_type": "markdown",
   "metadata": {},
   "source": [
    "Im Folgenden sehen Sie eine Code-Zelle, in der wir zwei Variablen, `x` und `y`, definieren sowie eine Funktion `compute_maximum`, die das Maximum einer gegebenen Liste an Zahlen ausgibt:"
   ]
  },
  {
   "cell_type": "code",
   "execution_count": 1,
   "metadata": {},
   "outputs": [],
   "source": [
    "x = 3\n",
    "y = 7\n",
    "\n",
    "def compute_maximum(some_list):\n",
    "    if len(some_list) == 0:\n",
    "        print(\"List is empty\")\n",
    "    else:\n",
    "        current_maximum = some_list[0]\n",
    "        for element in some_list:\n",
    "            if element > current_maximum:\n",
    "                current_maximum = element\n",
    "        return current_maximum"
   ]
  },
  {
   "cell_type": "markdown",
   "metadata": {},
   "source": [
    "Sobald wir die Zelle ausgeführt haben (`CTRL + Enter` für Windows, `CMD + Enter` für MacOS), können wir mit den initialisierten Variablen im Rest des Notebooks weiterarbeiten.\n",
    "\n",
    "Zum Beispiel können wir die von uns definierte Funktion dafür nutzen, das Maximum einer neuen Liste zu berechnen:"
   ]
  },
  {
   "cell_type": "code",
   "execution_count": 2,
   "metadata": {},
   "outputs": [
    {
     "name": "stdout",
     "output_type": "stream",
     "text": [
      "42\n"
     ]
    }
   ],
   "source": [
    "new_list = [x, y, x*y, 42]\n",
    "new_maximum = compute_maximum(new_list)\n",
    "print(new_maximum)"
   ]
  },
  {
   "cell_type": "markdown",
   "metadata": {},
   "source": [
    "Sie sehen, dass die Ausgabe (print) entsprechend unter der jeweiligen Code-Zelle erscheint.\n",
    "\n",
    "**Wichtig:** Im Gegensatz zu CodeExpert, wo Sie immer nur das gesamte Skript ausführen konnten, können Sie im Jupyter Notebook Zellen in einer beliebigen Reihenfolge ausführen. Deswegen ist es empfehlenswert das Notebook, bevor man es mit anderen teilt, neu zu starten und von oben nach unten auszuführen (entsprechend einfach über das Menüfeld `Kernel > Restart an Run All`), um sicherzustellen, dass die Ergebnisse reproduzierbar sind."
   ]
  },
  {
   "cell_type": "markdown",
   "metadata": {},
   "source": [
    "# Ein ausführliches Beispiel\n",
    "\n",
    "In der Datei `clinical_example.ipynb` finden Sie ein Beispiel für eine klinische Datenanalyse, in der wir ein Vorhersagemodell erstellen für die Klassifikation von gutartigen und bösartigen Brusttumoren."
   ]
  }
 ],
 "metadata": {
  "kernelspec": {
   "display_name": "Python 3",
   "language": "python",
   "name": "python3"
  },
  "language_info": {
   "codemirror_mode": {
    "name": "ipython",
    "version": 3
   },
   "file_extension": ".py",
   "mimetype": "text/x-python",
   "name": "python",
   "nbconvert_exporter": "python",
   "pygments_lexer": "ipython3",
   "version": "3.6.5"
  }
 },
 "nbformat": 4,
 "nbformat_minor": 1
}
