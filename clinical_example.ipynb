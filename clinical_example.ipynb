{
 "cells": [
  {
   "cell_type": "markdown",
   "metadata": {},
   "source": [
    "# Einleitung\n",
    "\n",
    "Im Folgenden demonstrieren wir wie man ein einfaches Vorhersagemodell trainieren kann, um Brusttumore in gutartige und bösartige Tumore zu klassifizieren, gegeben einiger numerischer Eigenschaften über den jeweiligen Tumor.\n",
    "\n",
    "Wir werden dafür den [Breast Cancer Wisconsin](https://archive.ics.uci.edu/ml/datasets/breast+cancer+wisconsin+%28diagnostic%29) Datensatz nutzen. Wir haben den Datensatz leicht vereinfacht, indem wir zwei Spalten aus der CSV-Datei entfernt haben. Den vereinfachten Datensatz finden Sie in der Datei `data_simplified.csv`.\n",
    "\n",
    "Wir werden fast ausschliesslich Module verwenden, die Sie bereits in der Vorlesung kennen gelernt haben. Die einzige Ausnahme ist das `sklearn` Modul, das nützlich ist, um Vorhersagemodelle zu definieren und zu trainieren. Wir werden dabei zwei verschiedene Modelle nutzen: eine logistische Regression, die Ihnen bereits aus früheren Vorlesungen bekannt sein sollte, sowie ein Random Forest––ein beliebtes Machine Learning Modell, das kompliziertere Abhängigkeiten abbilden kann als die Logistische Regression. Betrachten Sie den Random Forest zunächst als ein \"Black-Box\" Modell, mit einer theoretisch besseren Vorhersagekraft als die logistische Regression. Weiteres über den Random Forest und viele andere Machine Learning Methoden werden Sie in der Vorlesung *Data Science for Medicine* erfahren."
   ]
  },
  {
   "cell_type": "markdown",
   "metadata": {},
   "source": [
    "# Laden der benötigten Module"
   ]
  },
  {
   "cell_type": "markdown",
   "metadata": {},
   "source": [
    "Zunächst laden wir die Module, die wir für die Datenanalyse benötigen werden. Das funktioniert im Jupyter Notebook genau so, wie Sie es in CodeExpert kennen gelernt haben."
   ]
  },
  {
   "cell_type": "code",
   "execution_count": 1,
   "metadata": {
    "_cell_guid": "b1076dfc-b9ad-4769-8c92-a6c4dae69d19",
    "_uuid": "8f2839f25d086af736a60e9eeb907d3b93b6e0e5"
   },
   "outputs": [],
   "source": [
    "import pandas as pd\n",
    "import numpy as np\n",
    "import matplotlib.pyplot as plt\n",
    "\n",
    "from sklearn.linear_model import LogisticRegression\n",
    "from sklearn.ensemble import RandomForestClassifier"
   ]
  },
  {
   "cell_type": "markdown",
   "metadata": {},
   "source": [
    "# Laden der Daten"
   ]
  },
  {
   "cell_type": "markdown",
   "metadata": {},
   "source": [
    "Wir lesen zunächst die Daten (CSV-Datei) als Pandas DataFrame ein:"
   ]
  },
  {
   "cell_type": "code",
   "execution_count": 2,
   "metadata": {
    "_cell_guid": "79c7e3d0-c299-4dcb-8224-4455121ee9b0",
    "_uuid": "d629ff2d2480ee46fbb7e2d37f6b5fab8052498a"
   },
   "outputs": [],
   "source": [
    "# Daten einlesen als Pandas DataFrame\n",
    "data = pd.read_csv(\"data_simplified.csv\")"
   ]
  },
  {
   "cell_type": "markdown",
   "metadata": {},
   "source": [
    "Das Jupyter Notebook erlaubt uns bereits einen Blick in die Daten zu werfen:"
   ]
  },
  {
   "cell_type": "code",
   "execution_count": 3,
   "metadata": {
    "_cell_guid": "98513b44-0348-44ea-924a-60595db626a3",
    "_uuid": "c38f6c370861afa361759364d40674a473d1ad91",
    "scrolled": true
   },
   "outputs": [
    {
     "data": {
      "text/html": [
       "<div>\n",
       "<style scoped>\n",
       "    .dataframe tbody tr th:only-of-type {\n",
       "        vertical-align: middle;\n",
       "    }\n",
       "\n",
       "    .dataframe tbody tr th {\n",
       "        vertical-align: top;\n",
       "    }\n",
       "\n",
       "    .dataframe thead th {\n",
       "        text-align: right;\n",
       "    }\n",
       "</style>\n",
       "<table border=\"1\" class=\"dataframe\">\n",
       "  <thead>\n",
       "    <tr style=\"text-align: right;\">\n",
       "      <th></th>\n",
       "      <th>diagnosis</th>\n",
       "      <th>radius_mean</th>\n",
       "      <th>texture_mean</th>\n",
       "      <th>perimeter_mean</th>\n",
       "      <th>area_mean</th>\n",
       "      <th>smoothness_mean</th>\n",
       "      <th>compactness_mean</th>\n",
       "      <th>concavity_mean</th>\n",
       "      <th>concave points_mean</th>\n",
       "      <th>symmetry_mean</th>\n",
       "      <th>...</th>\n",
       "      <th>radius_worst</th>\n",
       "      <th>texture_worst</th>\n",
       "      <th>perimeter_worst</th>\n",
       "      <th>area_worst</th>\n",
       "      <th>smoothness_worst</th>\n",
       "      <th>compactness_worst</th>\n",
       "      <th>concavity_worst</th>\n",
       "      <th>concave points_worst</th>\n",
       "      <th>symmetry_worst</th>\n",
       "      <th>fractal_dimension_worst</th>\n",
       "    </tr>\n",
       "  </thead>\n",
       "  <tbody>\n",
       "    <tr>\n",
       "      <th>0</th>\n",
       "      <td>M</td>\n",
       "      <td>17.99</td>\n",
       "      <td>10.38</td>\n",
       "      <td>122.80</td>\n",
       "      <td>1001.0</td>\n",
       "      <td>0.11840</td>\n",
       "      <td>0.27760</td>\n",
       "      <td>0.30010</td>\n",
       "      <td>0.14710</td>\n",
       "      <td>0.2419</td>\n",
       "      <td>...</td>\n",
       "      <td>25.38</td>\n",
       "      <td>17.33</td>\n",
       "      <td>184.60</td>\n",
       "      <td>2019.0</td>\n",
       "      <td>0.1622</td>\n",
       "      <td>0.6656</td>\n",
       "      <td>0.7119</td>\n",
       "      <td>0.2654</td>\n",
       "      <td>0.4601</td>\n",
       "      <td>0.11890</td>\n",
       "    </tr>\n",
       "    <tr>\n",
       "      <th>1</th>\n",
       "      <td>M</td>\n",
       "      <td>20.57</td>\n",
       "      <td>17.77</td>\n",
       "      <td>132.90</td>\n",
       "      <td>1326.0</td>\n",
       "      <td>0.08474</td>\n",
       "      <td>0.07864</td>\n",
       "      <td>0.08690</td>\n",
       "      <td>0.07017</td>\n",
       "      <td>0.1812</td>\n",
       "      <td>...</td>\n",
       "      <td>24.99</td>\n",
       "      <td>23.41</td>\n",
       "      <td>158.80</td>\n",
       "      <td>1956.0</td>\n",
       "      <td>0.1238</td>\n",
       "      <td>0.1866</td>\n",
       "      <td>0.2416</td>\n",
       "      <td>0.1860</td>\n",
       "      <td>0.2750</td>\n",
       "      <td>0.08902</td>\n",
       "    </tr>\n",
       "    <tr>\n",
       "      <th>2</th>\n",
       "      <td>M</td>\n",
       "      <td>19.69</td>\n",
       "      <td>21.25</td>\n",
       "      <td>130.00</td>\n",
       "      <td>1203.0</td>\n",
       "      <td>0.10960</td>\n",
       "      <td>0.15990</td>\n",
       "      <td>0.19740</td>\n",
       "      <td>0.12790</td>\n",
       "      <td>0.2069</td>\n",
       "      <td>...</td>\n",
       "      <td>23.57</td>\n",
       "      <td>25.53</td>\n",
       "      <td>152.50</td>\n",
       "      <td>1709.0</td>\n",
       "      <td>0.1444</td>\n",
       "      <td>0.4245</td>\n",
       "      <td>0.4504</td>\n",
       "      <td>0.2430</td>\n",
       "      <td>0.3613</td>\n",
       "      <td>0.08758</td>\n",
       "    </tr>\n",
       "    <tr>\n",
       "      <th>3</th>\n",
       "      <td>M</td>\n",
       "      <td>11.42</td>\n",
       "      <td>20.38</td>\n",
       "      <td>77.58</td>\n",
       "      <td>386.1</td>\n",
       "      <td>0.14250</td>\n",
       "      <td>0.28390</td>\n",
       "      <td>0.24140</td>\n",
       "      <td>0.10520</td>\n",
       "      <td>0.2597</td>\n",
       "      <td>...</td>\n",
       "      <td>14.91</td>\n",
       "      <td>26.50</td>\n",
       "      <td>98.87</td>\n",
       "      <td>567.7</td>\n",
       "      <td>0.2098</td>\n",
       "      <td>0.8663</td>\n",
       "      <td>0.6869</td>\n",
       "      <td>0.2575</td>\n",
       "      <td>0.6638</td>\n",
       "      <td>0.17300</td>\n",
       "    </tr>\n",
       "    <tr>\n",
       "      <th>4</th>\n",
       "      <td>M</td>\n",
       "      <td>20.29</td>\n",
       "      <td>14.34</td>\n",
       "      <td>135.10</td>\n",
       "      <td>1297.0</td>\n",
       "      <td>0.10030</td>\n",
       "      <td>0.13280</td>\n",
       "      <td>0.19800</td>\n",
       "      <td>0.10430</td>\n",
       "      <td>0.1809</td>\n",
       "      <td>...</td>\n",
       "      <td>22.54</td>\n",
       "      <td>16.67</td>\n",
       "      <td>152.20</td>\n",
       "      <td>1575.0</td>\n",
       "      <td>0.1374</td>\n",
       "      <td>0.2050</td>\n",
       "      <td>0.4000</td>\n",
       "      <td>0.1625</td>\n",
       "      <td>0.2364</td>\n",
       "      <td>0.07678</td>\n",
       "    </tr>\n",
       "    <tr>\n",
       "      <th>5</th>\n",
       "      <td>M</td>\n",
       "      <td>12.45</td>\n",
       "      <td>15.70</td>\n",
       "      <td>82.57</td>\n",
       "      <td>477.1</td>\n",
       "      <td>0.12780</td>\n",
       "      <td>0.17000</td>\n",
       "      <td>0.15780</td>\n",
       "      <td>0.08089</td>\n",
       "      <td>0.2087</td>\n",
       "      <td>...</td>\n",
       "      <td>15.47</td>\n",
       "      <td>23.75</td>\n",
       "      <td>103.40</td>\n",
       "      <td>741.6</td>\n",
       "      <td>0.1791</td>\n",
       "      <td>0.5249</td>\n",
       "      <td>0.5355</td>\n",
       "      <td>0.1741</td>\n",
       "      <td>0.3985</td>\n",
       "      <td>0.12440</td>\n",
       "    </tr>\n",
       "    <tr>\n",
       "      <th>6</th>\n",
       "      <td>M</td>\n",
       "      <td>18.25</td>\n",
       "      <td>19.98</td>\n",
       "      <td>119.60</td>\n",
       "      <td>1040.0</td>\n",
       "      <td>0.09463</td>\n",
       "      <td>0.10900</td>\n",
       "      <td>0.11270</td>\n",
       "      <td>0.07400</td>\n",
       "      <td>0.1794</td>\n",
       "      <td>...</td>\n",
       "      <td>22.88</td>\n",
       "      <td>27.66</td>\n",
       "      <td>153.20</td>\n",
       "      <td>1606.0</td>\n",
       "      <td>0.1442</td>\n",
       "      <td>0.2576</td>\n",
       "      <td>0.3784</td>\n",
       "      <td>0.1932</td>\n",
       "      <td>0.3063</td>\n",
       "      <td>0.08368</td>\n",
       "    </tr>\n",
       "    <tr>\n",
       "      <th>7</th>\n",
       "      <td>M</td>\n",
       "      <td>13.71</td>\n",
       "      <td>20.83</td>\n",
       "      <td>90.20</td>\n",
       "      <td>577.9</td>\n",
       "      <td>0.11890</td>\n",
       "      <td>0.16450</td>\n",
       "      <td>0.09366</td>\n",
       "      <td>0.05985</td>\n",
       "      <td>0.2196</td>\n",
       "      <td>...</td>\n",
       "      <td>17.06</td>\n",
       "      <td>28.14</td>\n",
       "      <td>110.60</td>\n",
       "      <td>897.0</td>\n",
       "      <td>0.1654</td>\n",
       "      <td>0.3682</td>\n",
       "      <td>0.2678</td>\n",
       "      <td>0.1556</td>\n",
       "      <td>0.3196</td>\n",
       "      <td>0.11510</td>\n",
       "    </tr>\n",
       "    <tr>\n",
       "      <th>8</th>\n",
       "      <td>M</td>\n",
       "      <td>13.00</td>\n",
       "      <td>21.82</td>\n",
       "      <td>87.50</td>\n",
       "      <td>519.8</td>\n",
       "      <td>0.12730</td>\n",
       "      <td>0.19320</td>\n",
       "      <td>0.18590</td>\n",
       "      <td>0.09353</td>\n",
       "      <td>0.2350</td>\n",
       "      <td>...</td>\n",
       "      <td>15.49</td>\n",
       "      <td>30.73</td>\n",
       "      <td>106.20</td>\n",
       "      <td>739.3</td>\n",
       "      <td>0.1703</td>\n",
       "      <td>0.5401</td>\n",
       "      <td>0.5390</td>\n",
       "      <td>0.2060</td>\n",
       "      <td>0.4378</td>\n",
       "      <td>0.10720</td>\n",
       "    </tr>\n",
       "    <tr>\n",
       "      <th>9</th>\n",
       "      <td>M</td>\n",
       "      <td>12.46</td>\n",
       "      <td>24.04</td>\n",
       "      <td>83.97</td>\n",
       "      <td>475.9</td>\n",
       "      <td>0.11860</td>\n",
       "      <td>0.23960</td>\n",
       "      <td>0.22730</td>\n",
       "      <td>0.08543</td>\n",
       "      <td>0.2030</td>\n",
       "      <td>...</td>\n",
       "      <td>15.09</td>\n",
       "      <td>40.68</td>\n",
       "      <td>97.65</td>\n",
       "      <td>711.4</td>\n",
       "      <td>0.1853</td>\n",
       "      <td>1.0580</td>\n",
       "      <td>1.1050</td>\n",
       "      <td>0.2210</td>\n",
       "      <td>0.4366</td>\n",
       "      <td>0.20750</td>\n",
       "    </tr>\n",
       "  </tbody>\n",
       "</table>\n",
       "<p>10 rows × 31 columns</p>\n",
       "</div>"
      ],
      "text/plain": [
       "  diagnosis  radius_mean  texture_mean  perimeter_mean  area_mean  \\\n",
       "0         M        17.99         10.38          122.80     1001.0   \n",
       "1         M        20.57         17.77          132.90     1326.0   \n",
       "2         M        19.69         21.25          130.00     1203.0   \n",
       "3         M        11.42         20.38           77.58      386.1   \n",
       "4         M        20.29         14.34          135.10     1297.0   \n",
       "5         M        12.45         15.70           82.57      477.1   \n",
       "6         M        18.25         19.98          119.60     1040.0   \n",
       "7         M        13.71         20.83           90.20      577.9   \n",
       "8         M        13.00         21.82           87.50      519.8   \n",
       "9         M        12.46         24.04           83.97      475.9   \n",
       "\n",
       "   smoothness_mean  compactness_mean  concavity_mean  concave points_mean  \\\n",
       "0          0.11840           0.27760         0.30010              0.14710   \n",
       "1          0.08474           0.07864         0.08690              0.07017   \n",
       "2          0.10960           0.15990         0.19740              0.12790   \n",
       "3          0.14250           0.28390         0.24140              0.10520   \n",
       "4          0.10030           0.13280         0.19800              0.10430   \n",
       "5          0.12780           0.17000         0.15780              0.08089   \n",
       "6          0.09463           0.10900         0.11270              0.07400   \n",
       "7          0.11890           0.16450         0.09366              0.05985   \n",
       "8          0.12730           0.19320         0.18590              0.09353   \n",
       "9          0.11860           0.23960         0.22730              0.08543   \n",
       "\n",
       "   symmetry_mean  ...  radius_worst  texture_worst  perimeter_worst  \\\n",
       "0         0.2419  ...         25.38          17.33           184.60   \n",
       "1         0.1812  ...         24.99          23.41           158.80   \n",
       "2         0.2069  ...         23.57          25.53           152.50   \n",
       "3         0.2597  ...         14.91          26.50            98.87   \n",
       "4         0.1809  ...         22.54          16.67           152.20   \n",
       "5         0.2087  ...         15.47          23.75           103.40   \n",
       "6         0.1794  ...         22.88          27.66           153.20   \n",
       "7         0.2196  ...         17.06          28.14           110.60   \n",
       "8         0.2350  ...         15.49          30.73           106.20   \n",
       "9         0.2030  ...         15.09          40.68            97.65   \n",
       "\n",
       "   area_worst  smoothness_worst  compactness_worst  concavity_worst  \\\n",
       "0      2019.0            0.1622             0.6656           0.7119   \n",
       "1      1956.0            0.1238             0.1866           0.2416   \n",
       "2      1709.0            0.1444             0.4245           0.4504   \n",
       "3       567.7            0.2098             0.8663           0.6869   \n",
       "4      1575.0            0.1374             0.2050           0.4000   \n",
       "5       741.6            0.1791             0.5249           0.5355   \n",
       "6      1606.0            0.1442             0.2576           0.3784   \n",
       "7       897.0            0.1654             0.3682           0.2678   \n",
       "8       739.3            0.1703             0.5401           0.5390   \n",
       "9       711.4            0.1853             1.0580           1.1050   \n",
       "\n",
       "   concave points_worst  symmetry_worst  fractal_dimension_worst  \n",
       "0                0.2654          0.4601                  0.11890  \n",
       "1                0.1860          0.2750                  0.08902  \n",
       "2                0.2430          0.3613                  0.08758  \n",
       "3                0.2575          0.6638                  0.17300  \n",
       "4                0.1625          0.2364                  0.07678  \n",
       "5                0.1741          0.3985                  0.12440  \n",
       "6                0.1932          0.3063                  0.08368  \n",
       "7                0.1556          0.3196                  0.11510  \n",
       "8                0.2060          0.4378                  0.10720  \n",
       "9                0.2210          0.4366                  0.20750  \n",
       "\n",
       "[10 rows x 31 columns]"
      ]
     },
     "execution_count": 3,
     "metadata": {},
     "output_type": "execute_result"
    }
   ],
   "source": [
    "data.head(10)  # zeigt uns die ersten 10 Zeilen"
   ]
  },
  {
   "cell_type": "markdown",
   "metadata": {},
   "source": [
    "Zudem können wir uns ausgeben lassen, wie viele Reihen und Spalten unsere Daten haben:"
   ]
  },
  {
   "cell_type": "code",
   "execution_count": 4,
   "metadata": {},
   "outputs": [
    {
     "name": "stdout",
     "output_type": "stream",
     "text": [
      "(569, 31)\n"
     ]
    }
   ],
   "source": [
    "print(data.shape)"
   ]
  },
  {
   "cell_type": "markdown",
   "metadata": {},
   "source": [
    "Aus den oben genannten Informationen können bereits folgende Eigenschaften über die Daten ableiten:\n",
    "- Jede Zeile enthält numerische Informationen über die Eigenschaften eines Tumors, wie zum Beispiel dessen Radius, Textur, etc.\n",
    "- Die Spalte `diagnosis` sagt uns ob der Tumor gutartig (B, für benign) oder bösartig (M, für malignant) ist.\n",
    "- Der Datensatz besteht aus 569 Reihen (Anzahl Tumor-Messungen) und 31 Spalten (Anzahl numerischer Eigenschaften für jeden Tumor)"
   ]
  },
  {
   "cell_type": "markdown",
   "metadata": {},
   "source": [
    "Im Folgenden werden wir eine kurze explorative Analyse der Daten durchführen, bevor wir uns schliesslich der Vorhersage widmen, ob es sich, gegeben der numerischen Eigenschaften, um einen gutartigen oder bösartigen Tumor handelt."
   ]
  },
  {
   "cell_type": "markdown",
   "metadata": {},
   "source": [
    "# Explorative Analyse"
   ]
  },
  {
   "cell_type": "markdown",
   "metadata": {
    "_cell_guid": "829d5285-8fdb-437d-b5fd-26f2bc3f6e01",
    "_uuid": "86d0d9a841baf5733e6104cf0433cb3e148a354d"
   },
   "source": [
    "## Histogram\n",
    "\n",
    "Ein Histogram lässt uns darstellen wie häufig ein jeweiliger Wert im Datensatz vorkommt. Damit können wir die Verteilung von numerischen und kategorischen Variablen visualisieren und entsprechend unterschiedlich einfärben für unterschiedliche Klassen. Für die Visualisierung eines Histograms nutzen wir die `hist` Funktion des uns bereits bekannten Moduls `matplotlib`."
   ]
  },
  {
   "cell_type": "code",
   "execution_count": 5,
   "metadata": {
    "_cell_guid": "27b6f676-0a79-4728-889e-4839925ea067",
    "_uuid": "d85e97435435a4f9b0d5ac188c8ec21f565bc7d9"
   },
   "outputs": [
    {
     "data": {
      "image/png": "[encoded data removed]",
      "text/plain": [
       "<Figure size 432x288 with 1 Axes>"
      ]
     },
     "metadata": {
      "needs_background": "light"
     },
     "output_type": "display_data"
    }
   ],
   "source": [
    "b = plt.hist(data[data[\"diagnosis\"] == \"B\"].radius_mean, alpha=0.7, label=\"Benign\")\n",
    "m = plt.hist(data[data[\"diagnosis\"] == \"M\"].radius_mean, alpha=0.7, label=\"Malignant\")\n",
    "plt.legend()\n",
    "plt.xlabel(\"Radius Mean Values\")\n",
    "plt.ylabel(\"Frequency\")\n",
    "plt.title(\"Histogram of Radius Mean for Bening and Malignant Tumors\")\n",
    "plt.show()"
   ]
  },
  {
   "cell_type": "markdown",
   "metadata": {},
   "source": [
    "Das Histogram zeigt uns die Verteilung der Variable `radius_mean`, dem Radius eines Tumors, jeweils für gutartige und bösartige Tumore. Visuell können wir bereits erkennen, dass im gegebenen Datensatz bösartige Tumore im Durchschnitt einen grösseren Radius haben als gutartige Tumore."
   ]
  },
  {
   "cell_type": "markdown",
   "metadata": {
    "_cell_guid": "e2ea4524-ba53-4999-9622-57f777b52c04",
    "_uuid": "751536650e6a243fd6ffabbd895101a6cc5af0a2"
   },
   "source": [
    "## Korrelation\n",
    "\n",
    "Der Korrelationskoeffizienz hilft uns die stärke der linearen Abhängigkeit zwischen zwei Variablen zu messen. Insbesondere interessiert uns die Korrelation zwischen einer bösartigen Tumordiagnose und jeder numerischen Variable. Entsprechen können wir durch alle Spalten iterieren, indem wir auf das Attribut `columns` des DataFrames zugreifen und die Funktion `corr` nutzen, um den Korrelationskoeffizient zwischen zwei Variablen zu berechnen."
   ]
  },
  {
   "cell_type": "code",
   "execution_count": 6,
   "metadata": {
    "scrolled": true
   },
   "outputs": [
    {
     "name": "stdout",
     "output_type": "stream",
     "text": [
      "radius_mean\n",
      "0.7300285113754558\n",
      "\n",
      "texture_mean\n",
      "0.4151852998452037\n",
      "\n",
      "perimeter_mean\n",
      "0.742635529725832\n",
      "\n",
      "area_mean\n",
      "0.7089838365853891\n",
      "\n",
      "smoothness_mean\n",
      "0.3585599650859317\n",
      "\n",
      "compactness_mean\n",
      "0.5965336775082525\n",
      "\n",
      "concavity_mean\n",
      "0.6963597071719048\n",
      "\n",
      "concave points_mean\n",
      "0.7766138400204347\n",
      "\n",
      "symmetry_mean\n",
      "0.33049855426254654\n",
      "\n",
      "fractal_dimension_mean\n",
      "-0.012837602698432348\n",
      "\n",
      "radius_se\n",
      "0.5671338208247165\n",
      "\n",
      "texture_se\n",
      "-0.008303332973877411\n",
      "\n",
      "perimeter_se\n",
      "0.5561407034314825\n",
      "\n",
      "area_se\n",
      "0.5482359402780237\n",
      "\n",
      "smoothness_se\n",
      "-0.06701601057948724\n",
      "\n",
      "compactness_se\n",
      "0.2929992442488581\n",
      "\n",
      "concavity_se\n",
      "0.25372976598083014\n",
      "\n",
      "concave points_se\n",
      "0.40804233271650414\n",
      "\n",
      "symmetry_se\n",
      "-0.006521755870647972\n",
      "\n",
      "fractal_dimension_se\n",
      "0.07797241739025602\n",
      "\n",
      "radius_worst\n",
      "0.7764537785950386\n",
      "\n",
      "texture_worst\n",
      "0.45690282139679755\n",
      "\n",
      "perimeter_worst\n",
      "0.7829141371737584\n",
      "\n",
      "area_worst\n",
      "0.7338250349210504\n",
      "\n",
      "smoothness_worst\n",
      "0.421464861066402\n",
      "\n",
      "compactness_worst\n",
      "0.5909982378417914\n",
      "\n",
      "concavity_worst\n",
      "0.6596102103692325\n",
      "\n",
      "concave points_worst\n",
      "0.7935660171412688\n",
      "\n",
      "symmetry_worst\n",
      "0.4162943110486188\n",
      "\n",
      "fractal_dimension_worst\n",
      "0.3238721887208234\n",
      "\n"
     ]
    }
   ],
   "source": [
    "for c in data.columns:\n",
    "    if c != \"diagnosis\":\n",
    "        print(c)\n",
    "        print(data[c].corr(data[\"diagnosis\"] == \"M\"))\n",
    "        print()"
   ]
  },
  {
   "cell_type": "markdown",
   "metadata": {},
   "source": [
    "Die Ausgabe zeigt uns zum Beispiel, dass der Korrelationskoeffizient zwischen der Variable `radius_mean` und einer bösartigen Diagnose 0.73 beträgt––ein relativ starker positiver linearer Zusammenhang."
   ]
  },
  {
   "cell_type": "markdown",
   "metadata": {},
   "source": [
    "# Vorhersage"
   ]
  },
  {
   "cell_type": "markdown",
   "metadata": {},
   "source": [
    "Nun widmen wir uns der Vorhersage der Tumordiagnose (gut- oder bösartig) gegeben der numerischen Eigenschaften. Dafür definieren wir zunächst einen DataFrame `X`, der nur die numerischen Eigenschaften enthält und eine abhängige Variable `y`, in der wir nur die Diagnose für alle Beobachtungen speichern."
   ]
  },
  {
   "cell_type": "code",
   "execution_count": 7,
   "metadata": {},
   "outputs": [],
   "source": [
    "X = data.drop(\"diagnosis\", axis=1)   # unabhängige Variablen die wir für die Vorhersage nutzen wollen\n",
    "y = data[\"diagnosis\"]                # abhängige Variable, die wir Vorhersagen möchten"
   ]
  },
  {
   "cell_type": "markdown",
   "metadata": {},
   "source": [
    "Um ein Modell auf dem uns vorliegenden Daten zu \"trainieren\" (ein typischer Begriff im Machine Learning), initialisieren wir zunächst das gewünschte Modell und benutzen dann die `fit` Funktion, um das Modell für die Vorhersage von `y` gegeben `X` zu trainieren:"
   ]
  },
  {
   "cell_type": "code",
   "execution_count": 8,
   "metadata": {},
   "outputs": [
    {
     "name": "stderr",
     "output_type": "stream",
     "text": [
      "/Users/imant/.venv/bili/lib/python3.6/site-packages/sklearn/linear_model/logistic.py:433: FutureWarning: Default solver will be changed to 'lbfgs' in 0.22. Specify a solver to silence this warning.\n",
      "  FutureWarning)\n",
      "/Users/imant/.venv/bili/lib/python3.6/site-packages/sklearn/ensemble/forest.py:246: FutureWarning: The default value of n_estimators will change from 10 in version 0.20 to 100 in 0.22.\n",
      "  \"10 in version 0.20 to 100 in 0.22.\", FutureWarning)\n"
     ]
    },
    {
     "data": {
      "text/plain": [
       "RandomForestClassifier(bootstrap=True, class_weight=None, criterion='gini',\n",
       "            max_depth=None, max_features='auto', max_leaf_nodes=None,\n",
       "            min_impurity_decrease=0.0, min_impurity_split=None,\n",
       "            min_samples_leaf=1, min_samples_split=2,\n",
       "            min_weight_fraction_leaf=0.0, n_estimators=10, n_jobs=None,\n",
       "            oob_score=False, random_state=None, verbose=0,\n",
       "            warm_start=False)"
      ]
     },
     "execution_count": 8,
     "metadata": {},
     "output_type": "execute_result"
    }
   ],
   "source": [
    "model_logistic = LogisticRegression()\n",
    "model_logistic.fit(X, y)\n",
    "\n",
    "model_random_forest = RandomForestClassifier()\n",
    "model_random_forest.fit(X, y)"
   ]
  },
  {
   "cell_type": "markdown",
   "metadata": {},
   "source": [
    "Nun können wir das trainierte Modell nutzen, um eine Vorhersage für neue Patienten zu machen. Zum Beispiel können wir das Modell nutzen, um die ersten 10 Tumore zu diagnostizieren:"
   ]
  },
  {
   "cell_type": "code",
   "execution_count": 9,
   "metadata": {},
   "outputs": [
    {
     "name": "stdout",
     "output_type": "stream",
     "text": [
      "['M' 'M' 'M' 'B' 'M' 'M' 'M' 'M' 'M' 'M']\n"
     ]
    }
   ],
   "source": [
    "prediction_logistic = model_logistic.predict(X.values[0:10])\n",
    "print(prediction_logistic)"
   ]
  },
  {
   "cell_type": "markdown",
   "metadata": {},
   "source": [
    "Entsprechend können wir die *durchschnittliche Vorhersagegenauigkeit* auf den vorliegenden Daten berechnen:"
   ]
  },
  {
   "cell_type": "code",
   "execution_count": 10,
   "metadata": {},
   "outputs": [
    {
     "name": "stdout",
     "output_type": "stream",
     "text": [
      "0.9595782073813708\n",
      "0.9982425307557118\n"
     ]
    }
   ],
   "source": [
    "print(np.mean(model_logistic.predict(X) == y))\n",
    "print(np.mean(model_random_forest.predict(X) == y))"
   ]
  },
  {
   "cell_type": "markdown",
   "metadata": {},
   "source": [
    "**Interpretation:** gegeben der numerischen Eigenschaften eines Brusttumors (Grösse, Textur, etc.) erzielt die Logistische Regression eine durchschnittliche Vorhersagegenauigkeit von etwa 96% und ein Random Forest entsprechend fast 100% für die Diagnose von gutartigen vs. bösartigen Tumoren.\n",
    "\n",
    "Aber nicht so schnell! Wir haben dabei nicht berücksichtigt, dass wir das Modell auf den *gleichen* Daten trainieren und evaluieren. Dadurch ist die Vorhersagegenauigkeit wahrscheinlich zu optimistisch. Deswegen sollten wir das Modell besser nur auf einem Teil der Daten trainieren und einem zweiten, separaten Teil der Daten evaluieren. \n",
    "\n",
    "Mehr zur Bereinigung und Visualisierung von Daten sowie zur Anwendung von Machine Learning Methoden erfahren Sie in der Vorlesung *Data Science for Medicine*.\n",
    "\n",
    " \n",
    "\n",
    "*P.S.:* Falls Sie sich für solche Herausforderungen in der angewandten Datenanalyse interessieren, könnte die Plattform [Kaggle](https://www.kaggle.com) etwas für Sie sein. Mitunter finden Sie dort auch den hier vorgestellten Datensatz [Breast Cancer Wisconsin](https://www.kaggle.com/uciml/breast-cancer-wisconsin-data)."
   ]
  }
 ],
 "metadata": {
  "kernelspec": {
   "display_name": "Python 3",
   "language": "python",
   "name": "python3"
  },
  "language_info": {
   "codemirror_mode": {
    "name": "ipython",
    "version": 3
   },
   "file_extension": ".py",
   "mimetype": "text/x-python",
   "name": "python",
   "nbconvert_exporter": "python",
   "pygments_lexer": "ipython3",
   "version": "3.6.5"
  }
 },
 "nbformat": 4,
 "nbformat_minor": 1
}
